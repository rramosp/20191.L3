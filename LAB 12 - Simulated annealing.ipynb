{
 "cells": [
  {
   "cell_type": "markdown",
   "metadata": {},
   "source": [
    "# LAB 12 - Knapsack Problem con Simulated Annealing\n",
    "\n",
    "Resolveremos el mismo problema del Problem Set anterior pero con Simulated Annealing\n",
    "\n",
    "\n",
    "## EJECUTA ESTA CELDA PARA AUTENTICARTE CON TU CUENTA DE GMAIL"
   ]
  },
  {
   "cell_type": "code",
   "execution_count": null,
   "metadata": {},
   "outputs": [],
   "source": [
    "from mooclib import *\n",
    "import inspect, urllib\n",
    "html, auth_code, userinfo = google_authenticate(PORT_NUMBER=8080)\n",
    "html"
   ]
  },
  {
   "cell_type": "code",
   "execution_count": null,
   "metadata": {},
   "outputs": [],
   "source": [
    "!pip install -q oauth2client==1.5.2\n",
    "import sys\n",
    "sys.path.append(\"./utils/student_function/\")\n",
    "import matplotlib.pyplot as plt\n",
    "%matplotlib inline"
   ]
  },
  {
   "cell_type": "markdown",
   "metadata": {},
   "source": [
    "### Ejercicio 1: Completa la función `KS_neighbour` para que genere una nueva solución válida\n",
    "\n",
    "La nueva solución ha de diferir como mucho en un bit. Puedes utilizar la función `KS_isvalid`."
   ]
  },
  {
   "cell_type": "code",
   "execution_count": null,
   "metadata": {},
   "outputs": [],
   "source": [
    "%%writefile utils/student_function/PS12_01.py\n",
    "import numpy as np\n",
    "\n",
    "def KS_isvalid(solution, object_volumes, KS_volume):\n",
    "    return np.sum(solution*object_volumes)<=KS_volume\n",
    "\n",
    "def KS_neighbour(solution, object_volumes, KS_volume):\n",
    "    neighbour = ????\n",
    "    return neighbour\n"
   ]
  },
  {
   "cell_type": "markdown",
   "metadata": {},
   "source": [
    "#### evaluate your answer before submitting:"
   ]
  },
  {
   "cell_type": "code",
   "execution_count": null,
   "metadata": {},
   "outputs": [],
   "source": [
    "!./run CHECK_SOLUTION PS12_01 "
   ]
  },
  {
   "cell_type": "markdown",
   "metadata": {},
   "source": [
    "#### submit your answer (you must be connected to internet)"
   ]
  },
  {
   "cell_type": "code",
   "execution_count": null,
   "metadata": {},
   "outputs": [],
   "source": [
    "!./run SUBMIT_SOLUTION PS12_01 "
   ]
  },
  {
   "cell_type": "code",
   "execution_count": null,
   "metadata": {},
   "outputs": [],
   "source": []
  },
  {
   "cell_type": "markdown",
   "metadata": {},
   "source": [
    "### Ejercicio 2: Completa la función `KS_simulated_annealing` para que llame a la función `run_sa` según se ilustra en las notas con los parámetros del problema KS\n",
    "\n",
    "Completa las funciones de coste e inicialización de la población con tus soluciones del ejercicio anterior.\n",
    "\n",
    "La función `KS_simulated_annealing` debe de retornar los mismos objetos que devuelve `run_sa`"
   ]
  },
  {
   "cell_type": "code",
   "execution_count": null,
   "metadata": {},
   "outputs": [],
   "source": [
    "%%writefile utils/student_function/PS12_02.py\n",
    "import sys; \n",
    "sys.path.append(\"utils\")\n",
    "import sa\n",
    "import numpy as np\n",
    "\n",
    "def KS_isvalid(solution, object_volumes, KS_volume):\n",
    "    return np.sum(solution*object_volumes)<=KS_volume\n",
    "\n",
    "def KS_initialize_population(n_individuals, object_volumes, KS_volume):\n",
    "    ??????\n",
    "    \n",
    "def KS_cost(solution, object_values, object_volumes, KS_volume):\n",
    "    ??????\n",
    "\n",
    "def KS_neighbour(solution, object_volumes, KS_volume):\n",
    "    ??????\n",
    "    \n",
    "def KS_simulated_annealing(n_individuals, n_cooling_steps, \n",
    "                           KS_object_volumes, KS_object_values, KS_volume,\n",
    "                           KS_init_function, KS_cost_function, KS_neighbour_function):\n",
    "    \n",
    "\n",
    "    r = sa.run_sa(.....)\n",
    "\n",
    "    return r\n",
    "\n",
    "\n",
    "\n"
   ]
  },
  {
   "cell_type": "markdown",
   "metadata": {},
   "source": [
    "comprueba tu código. Con los parámetros especificados, \n",
    "\n",
    "- la mejor solución debería de tener un coste entre 1300 y 1800\n",
    "- la media de las mejores soluciones de cada paso debería de estar entre 1600 y 1900"
   ]
  },
  {
   "cell_type": "code",
   "execution_count": null,
   "metadata": {},
   "outputs": [],
   "source": [
    "from importlib import reload\n",
    "import PS12_02 as st2\n",
    "reload(st2)\n",
    "\n",
    "sys.path.append(\"utils\")\n",
    "import sa\n",
    "import numpy as np\n",
    "\n",
    "n_individuals     = 50\n",
    "n_cooling_steps   = 50\n",
    "KS_volume         = 100\n",
    "\n",
    "object_values  = np.array([36, 20, 47, 53, 55, 46, 48, 66,  1,  6, 13, 59, 95,  7, 54, 32, 76, 63, 76, 19,  2, 17, 16, 12, 78,\n",
    " 67, 44, 20, 41, 26, 24, 68, 55, 53, 35, 49, 46, 46, 16, 64, 41, 27,  8, 30, 76, 92, 85, 81, 84, 98])\n",
    "object_volumes = np.array([ 8, 47, 16,  8, 41, 11, 45, 34, 26, 48, 16,  8, 10, 13, 28,  6,  7, 11,  8, 27, 44, 30, 25, 23, 45,\n",
    "  3, 12, 12, 23,  3, 37, 10, 47, 46, 27, 10, 30,  8,  2, 47,  4, 44, 43, 37, 22, 20,  1, 17, 42, 27])\n",
    "\n",
    "\n",
    "bss = st2.KS_simulated_annealing(n_individuals, n_cooling_steps, object_volumes, object_values, KS_volume)\n",
    "bestsol, bests, means, stds = bss\n",
    "print( \"best knapsack is\", bestsol)\n",
    "print (\"best cost\", np.min(bests), \"value\", np.sum(bestsol*object_values), \"volume\", np.sum(bestsol*object_volumes))\n",
    "print (\"mean bests\", np.mean(bests))\n",
    "sa.plot_evolution(bests, means, stds)"
   ]
  },
  {
   "cell_type": "markdown",
   "metadata": {},
   "source": [
    "#### evaluate your answer before submitting:\n"
   ]
  },
  {
   "cell_type": "code",
   "execution_count": null,
   "metadata": {},
   "outputs": [],
   "source": [
    "!./run CHECK_SOLUTION PS12_02"
   ]
  },
  {
   "cell_type": "markdown",
   "metadata": {},
   "source": [
    "#### submit your answer (you must be connected to internet)"
   ]
  },
  {
   "cell_type": "code",
   "execution_count": null,
   "metadata": {},
   "outputs": [],
   "source": [
    "!./run SUBMIT_SOLUTION PS12_02"
   ]
  },
  {
   "cell_type": "markdown",
   "metadata": {},
   "source": [
    "## ya terminaste el taller!! ahora puedes experimentar con distintas configuraciones"
   ]
  },
  {
   "cell_type": "code",
   "execution_count": null,
   "metadata": {},
   "outputs": [],
   "source": [
    "\n",
    "n_individuals = 100\n",
    "n_cooling_steps = 500\n",
    "\n",
    "\n",
    "bss = st2.KS_simulated_annealing(n_individuals, n_cooling_steps, object_volumes, object_values, KS_volume)\n",
    "bestsol, bests, means, stds = bss\n",
    "print( \"best knapsack is\", bestsol)\n",
    "print (\"best cost\", np.min(bests), \"value\", np.sum(bestsol*object_values), \"volume\", np.sum(bestsol*object_volumes))\n",
    "print (\"mean bests\", np.mean(bests))\n",
    "sa.plot_evolution(bests, means, stds)"
   ]
  },
  {
   "cell_type": "code",
   "execution_count": null,
   "metadata": {},
   "outputs": [],
   "source": [
    "n_individuals = 500\n",
    "n_cooling_steps = 300\n",
    "\n",
    "bss = st2.KS_simulated_annealing(n_individuals, n_cooling_steps, object_volumes, object_values, KS_volume)\n",
    "bestsol, bests, means, stds = bss\n",
    "print( \"best knapsack is\", bestsol)\n",
    "print (\"best cost\", np.min(bests), \"value\", np.sum(bestsol*object_values), \"volume\", np.sum(bestsol*object_volumes))\n",
    "print (\"mean bests\", np.mean(bests))\n",
    "sa.plot_evolution(bests, means, stds)"
   ]
  },
  {
   "cell_type": "code",
   "execution_count": null,
   "metadata": {},
   "outputs": [],
   "source": [
    "n_individuals = 500\n",
    "n_cooling_steps = 1000\n",
    "\n",
    "bss = st2.KS_simulated_annealing(n_individuals, n_cooling_steps, object_volumes, object_values, KS_volume)\n",
    "bestsol, bests, means, stds = bss\n",
    "print( \"best knapsack is\", bestsol)\n",
    "print (\"best cost\", np.min(bests), \"value\", np.sum(bestsol*object_values), \"volume\", np.sum(bestsol*object_volumes))\n",
    "print (\"mean bests\", np.mean(bests))\n",
    "sa.plot_evolution(bests, means, stds)"
   ]
  },
  {
   "cell_type": "code",
   "execution_count": null,
   "metadata": {},
   "outputs": [],
   "source": []
  }
 ],
 "metadata": {
  "kernelspec": {
   "display_name": "p37",
   "language": "python",
   "name": "python3"
  },
  "language_info": {
   "codemirror_mode": {
    "name": "ipython",
    "version": 3
   },
   "file_extension": ".py",
   "mimetype": "text/x-python",
   "name": "python",
   "nbconvert_exporter": "python",
   "pygments_lexer": "ipython3",
   "version": "3.7.3"
  },
  "toc": {
   "toc_cell": false,
   "toc_number_sections": true,
   "toc_threshold": 6,
   "toc_window_display": false
  },
  "widgets": {
   "state": {},
   "version": "1.1.2"
  }
 },
 "nbformat": 4,
 "nbformat_minor": 2
}
